{
 "cells": [
  {
   "cell_type": "code",
   "execution_count": 1,
   "id": "cfaeb78c-ae61-479e-a44b-fcde02a7c044",
   "metadata": {},
   "outputs": [],
   "source": [
    "import os\n",
    "import sys\n",
    "\n",
    "# get the current script's directory\n",
    "current_dir = os.path.abspath('')\n",
    "\n",
    "# get the parent directory by going one level up\n",
    "parent_dir = os.path.dirname(current_dir)\n",
    "\n",
    "# add the parent directory to sys.path\n",
    "sys.path.append(parent_dir)"
   ]
  },
  {
   "cell_type": "code",
   "execution_count": 2,
   "id": "b7dc333c-895a-4620-806b-70ef4712734d",
   "metadata": {},
   "outputs": [],
   "source": [
    "import numpy as np\n",
    "import pandas as pd\n",
    "from scipy.spatial import distance\n",
    "\n",
    "from joblib import Parallel, delayed\n",
    "\n",
    "from rdkit import Chem, DataStructs\n",
    "from rdkit.Chem import AllChem"
   ]
  },
  {
   "cell_type": "code",
   "execution_count": 3,
   "id": "9c72cd2d-bfea-4d97-88d9-8b78b9fa196f",
   "metadata": {},
   "outputs": [
    {
     "data": {
      "text/html": [
       "<div>\n",
       "<style scoped>\n",
       "    .dataframe tbody tr th:only-of-type {\n",
       "        vertical-align: middle;\n",
       "    }\n",
       "\n",
       "    .dataframe tbody tr th {\n",
       "        vertical-align: top;\n",
       "    }\n",
       "\n",
       "    .dataframe thead th {\n",
       "        text-align: right;\n",
       "    }\n",
       "</style>\n",
       "<table border=\"1\" class=\"dataframe\">\n",
       "  <thead>\n",
       "    <tr style=\"text-align: right;\">\n",
       "      <th></th>\n",
       "      <th>smiles</th>\n",
       "      <th>logSolubility</th>\n",
       "    </tr>\n",
       "  </thead>\n",
       "  <tbody>\n",
       "    <tr>\n",
       "      <th>0</th>\n",
       "      <td>OCC3OC(OCC2OC(OC(C#N)c1ccccc1)C(O)C(O)C2O)C(O)...</td>\n",
       "      <td>-0.770</td>\n",
       "    </tr>\n",
       "    <tr>\n",
       "      <th>1</th>\n",
       "      <td>Cc1occc1C(=O)Nc2ccccc2</td>\n",
       "      <td>-3.300</td>\n",
       "    </tr>\n",
       "    <tr>\n",
       "      <th>2</th>\n",
       "      <td>CC(C)=CCCC(C)=CC(=O)</td>\n",
       "      <td>-2.060</td>\n",
       "    </tr>\n",
       "    <tr>\n",
       "      <th>3</th>\n",
       "      <td>c1ccc2c(c1)ccc3c2ccc4c5ccccc5ccc43</td>\n",
       "      <td>-7.870</td>\n",
       "    </tr>\n",
       "    <tr>\n",
       "      <th>4</th>\n",
       "      <td>c1ccsc1</td>\n",
       "      <td>-1.330</td>\n",
       "    </tr>\n",
       "    <tr>\n",
       "      <th>...</th>\n",
       "      <td>...</td>\n",
       "      <td>...</td>\n",
       "    </tr>\n",
       "    <tr>\n",
       "      <th>1123</th>\n",
       "      <td>FC(F)(F)C(Cl)Br</td>\n",
       "      <td>-1.710</td>\n",
       "    </tr>\n",
       "    <tr>\n",
       "      <th>1124</th>\n",
       "      <td>CNC(=O)ON=C(SC)C(=O)N(C)C</td>\n",
       "      <td>0.106</td>\n",
       "    </tr>\n",
       "    <tr>\n",
       "      <th>1125</th>\n",
       "      <td>CCSCCSP(=S)(OC)OC</td>\n",
       "      <td>-3.091</td>\n",
       "    </tr>\n",
       "    <tr>\n",
       "      <th>1126</th>\n",
       "      <td>CCC(C)C</td>\n",
       "      <td>-3.180</td>\n",
       "    </tr>\n",
       "    <tr>\n",
       "      <th>1127</th>\n",
       "      <td>COP(=O)(OC)OC(=CCl)c1cc(Cl)c(Cl)cc1Cl</td>\n",
       "      <td>-4.522</td>\n",
       "    </tr>\n",
       "  </tbody>\n",
       "</table>\n",
       "<p>1128 rows × 2 columns</p>\n",
       "</div>"
      ],
      "text/plain": [
       "                                                 smiles  logSolubility\n",
       "0     OCC3OC(OCC2OC(OC(C#N)c1ccccc1)C(O)C(O)C2O)C(O)...         -0.770\n",
       "1                                Cc1occc1C(=O)Nc2ccccc2         -3.300\n",
       "2                                  CC(C)=CCCC(C)=CC(=O)         -2.060\n",
       "3                    c1ccc2c(c1)ccc3c2ccc4c5ccccc5ccc43         -7.870\n",
       "4                                               c1ccsc1         -1.330\n",
       "...                                                 ...            ...\n",
       "1123                                    FC(F)(F)C(Cl)Br         -1.710\n",
       "1124                          CNC(=O)ON=C(SC)C(=O)N(C)C          0.106\n",
       "1125                                  CCSCCSP(=S)(OC)OC         -3.091\n",
       "1126                                            CCC(C)C         -3.180\n",
       "1127              COP(=O)(OC)OC(=CCl)c1cc(Cl)c(Cl)cc1Cl         -4.522\n",
       "\n",
       "[1128 rows x 2 columns]"
      ]
     },
     "execution_count": 3,
     "metadata": {},
     "output_type": "execute_result"
    }
   ],
   "source": [
    "df_esol = pd.read_csv('data/ESOL/delaney.csv')\n",
    "df_esol"
   ]
  },
  {
   "cell_type": "code",
   "execution_count": 4,
   "id": "5b1c7e07-6b37-4b2c-87f2-770bf1c91108",
   "metadata": {},
   "outputs": [],
   "source": [
    "df_esol['inchi_key'] = df_esol.smiles.apply(lambda x: Chem.inchi.MolToInchiKey(Chem.MolFromSmiles(x)) if Chem.MolFromSmiles(x) else 'Remove')"
   ]
  },
  {
   "cell_type": "code",
   "execution_count": 5,
   "id": "ace92901-fca5-412a-90a2-a511c5d22726",
   "metadata": {},
   "outputs": [
    {
     "data": {
      "text/plain": [
       "(1117, 3)"
      ]
     },
     "execution_count": 5,
     "metadata": {},
     "output_type": "execute_result"
    }
   ],
   "source": [
    "df_esol = df_esol.drop_duplicates(subset='inchi_key')\n",
    "df_esol.shape"
   ]
  },
  {
   "cell_type": "code",
   "execution_count": 6,
   "id": "2d6a9072-e9fc-4e54-aa9f-2e730fef6ca1",
   "metadata": {},
   "outputs": [],
   "source": [
    "smiles_list1 = df_esol.smiles.values[:600]\n",
    "smiles_list2 = df_esol.smiles.values[600:]"
   ]
  },
  {
   "cell_type": "markdown",
   "id": "26df409f-404e-4924-9fe1-b61a39c33f66",
   "metadata": {},
   "source": [
    "# Calculate Tanimoto/Jaccard Similarity with Bit Vectors\n",
    "\n",
    "These methods agree!"
   ]
  },
  {
   "cell_type": "markdown",
   "id": "21d0a1f2-e81b-456d-a196-b5ae4918934b",
   "metadata": {},
   "source": [
    "## RDKit"
   ]
  },
  {
   "cell_type": "code",
   "execution_count": 7,
   "id": "f95f2707-7e7c-40f6-9b21-45f297d377f3",
   "metadata": {},
   "outputs": [],
   "source": [
    "fp_gen = AllChem.GetRDKitFPGenerator(minPath=1, maxPath=2, fpSize=2048)\n",
    "def get_RDKit_fp(smi):\n",
    "\tmol = Chem.MolFromSmiles(smi)\n",
    "\treturn fp_gen.GetFingerprint(mol)"
   ]
  },
  {
   "cell_type": "code",
   "execution_count": 8,
   "id": "3f67a800-8704-4305-bd3b-33398a704f76",
   "metadata": {},
   "outputs": [],
   "source": [
    "def get_sim(smi1, smiles_list):\n",
    "\tsim_results = np.zeros(len(smiles_list))\n",
    "\tfor i, smi2 in enumerate(smiles_list):\n",
    "\t\tfp1 = get_RDKit_fp(smi1)\n",
    "\t\tfp2 = get_RDKit_fp(smi2)\n",
    "\n",
    "\t\t# todo: explore DataStructs.BulkTanimotoSimilarity() as another way to do this\n",
    "\t\tsim = DataStructs.TanimotoSimilarity(fp1, fp2)\n",
    "\t\tsim_results[i] = sim\n",
    "\n",
    "\treturn sim_results"
   ]
  },
  {
   "cell_type": "code",
   "execution_count": 11,
   "id": "11771c39-b427-4dbb-ab2b-3834b99e44e3",
   "metadata": {},
   "outputs": [],
   "source": [
    "def get_similarity_matrix(smiles_list1, smiles_list2, ncpus=1):\n",
    "\t\"\"\"\n",
    "\tReturns a matrix of Tanimoto similarities as a numpy array\n",
    "\tof size smiles_list1 x smiles_list2.\n",
    "\n",
    "\tProgress is measured by the number of smiles in smiles_list1.\n",
    "\t\"\"\"\n",
    "\n",
    "\tresult = Parallel(n_jobs=ncpus, backend='multiprocessing', verbose=5)(delayed(get_sim)(smi, smiles_list2) for smi in smiles_list1)\n",
    "\n",
    "\tsimilarity_matrix = np.zeros((len(smiles_list1), len(smiles_list2)))\n",
    "\tfor i, res in enumerate(result):\n",
    "\t\tsimilarity_matrix[i, :] = res\n",
    "\n",
    "\treturn similarity_matrix"
   ]
  },
  {
   "cell_type": "code",
   "execution_count": 13,
   "id": "a472065f-8c75-4bf9-b6be-9daddd2c3e9e",
   "metadata": {},
   "outputs": [
    {
     "name": "stderr",
     "output_type": "stream",
     "text": [
      "[Parallel(n_jobs=1)]: Done  17 tasks      | elapsed:    1.0s\n",
      "[Parallel(n_jobs=1)]: Done  71 tasks      | elapsed:    3.9s\n",
      "[Parallel(n_jobs=1)]: Done 161 tasks      | elapsed:    8.4s\n",
      "[Parallel(n_jobs=1)]: Done 287 tasks      | elapsed:   15.2s\n",
      "[Parallel(n_jobs=1)]: Done 449 tasks      | elapsed:   24.0s\n"
     ]
    },
    {
     "data": {
      "text/plain": [
       "(600, 517)"
      ]
     },
     "execution_count": 13,
     "metadata": {},
     "output_type": "execute_result"
    }
   ],
   "source": [
    "similarity_matrix_rdkit = get_similarity_matrix(smiles_list1, smiles_list2, ncpus=1)\n",
    "similarity_matrix_rdkit.shape"
   ]
  },
  {
   "cell_type": "code",
   "execution_count": 14,
   "id": "765b3698-0e32-4341-a8dd-4ae1d33c8689",
   "metadata": {},
   "outputs": [
    {
     "data": {
      "text/plain": [
       "array([[0.13043478, 0.05263158, 0.28571429, ..., 0.09803922, 0.14285714,\n",
       "        0.23529412],\n",
       "       [0.2173913 , 0.15789474, 0.25      , ..., 0.01694915, 0.        ,\n",
       "        0.13559322],\n",
       "       [0.        , 0.41176471, 0.        , ..., 0.05263158, 0.33333333,\n",
       "        0.04444444],\n",
       "       ...,\n",
       "       [0.14285714, 0.        , 0.33333333, ..., 0.        , 0.        ,\n",
       "        0.22857143],\n",
       "       [0.09090909, 0.        , 0.18518519, ..., 0.01960784, 0.        ,\n",
       "        0.09259259],\n",
       "       [0.125     , 0.        , 0.25      , ..., 0.        , 0.        ,\n",
       "        0.20512821]])"
      ]
     },
     "execution_count": 14,
     "metadata": {},
     "output_type": "execute_result"
    }
   ],
   "source": [
    "similarity_matrix_rdkit"
   ]
  },
  {
   "cell_type": "markdown",
   "id": "30308f79-ff70-4a5e-9291-c40fd0cb51c3",
   "metadata": {},
   "source": [
    "## Scipy"
   ]
  },
  {
   "cell_type": "code",
   "execution_count": 15,
   "id": "358da751-b5ab-4d15-9a3f-ae0766a09aa5",
   "metadata": {},
   "outputs": [],
   "source": [
    "fps1 = [get_RDKit_fp(smi) for smi in smiles_list1]\n",
    "fps2 = [get_RDKit_fp(smi) for smi in smiles_list2]"
   ]
  },
  {
   "cell_type": "code",
   "execution_count": 16,
   "id": "31e1cc8a-1b2c-4266-881d-164553b4352e",
   "metadata": {},
   "outputs": [
    {
     "data": {
      "text/plain": [
       "(600, 517)"
      ]
     },
     "execution_count": 16,
     "metadata": {},
     "output_type": "execute_result"
    }
   ],
   "source": [
    "# this calculates distance so subtrac 1 to make it similarity\n",
    "similarity_matrix_scipy = 1 - distance.cdist(fps1, fps2, metric='jaccard')\n",
    "similarity_matrix_scipy.shape"
   ]
  },
  {
   "cell_type": "code",
   "execution_count": 17,
   "id": "300eb748-4c5d-4cf4-ac3d-4b09d8595cb1",
   "metadata": {},
   "outputs": [
    {
     "data": {
      "text/plain": [
       "array([[0.13043478, 0.05263158, 0.28571429, ..., 0.09803922, 0.14285714,\n",
       "        0.23529412],\n",
       "       [0.2173913 , 0.15789474, 0.25      , ..., 0.01694915, 0.        ,\n",
       "        0.13559322],\n",
       "       [0.        , 0.41176471, 0.        , ..., 0.05263158, 0.33333333,\n",
       "        0.04444444],\n",
       "       ...,\n",
       "       [0.14285714, 0.        , 0.33333333, ..., 0.        , 0.        ,\n",
       "        0.22857143],\n",
       "       [0.09090909, 0.        , 0.18518519, ..., 0.01960784, 0.        ,\n",
       "        0.09259259],\n",
       "       [0.125     , 0.        , 0.25      , ..., 0.        , 0.        ,\n",
       "        0.20512821]])"
      ]
     },
     "execution_count": 17,
     "metadata": {},
     "output_type": "execute_result"
    }
   ],
   "source": [
    "similarity_matrix_scipy"
   ]
  },
  {
   "cell_type": "code",
   "execution_count": 18,
   "id": "fa13f0a4-1d6f-454a-ac10-8512933fc188",
   "metadata": {},
   "outputs": [
    {
     "data": {
      "text/plain": [
       "True"
      ]
     },
     "execution_count": 18,
     "metadata": {},
     "output_type": "execute_result"
    }
   ],
   "source": [
    "np.isclose(similarity_matrix_rdkit, similarity_matrix_scipy, rtol=1e-8, atol=1e-10).all()"
   ]
  },
  {
   "cell_type": "markdown",
   "id": "3d4e0007-4217-479c-b349-d8cdbb6c68b0",
   "metadata": {},
   "source": [
    "# Calculate Tanimoto/Jaccard Similarity with Count Vectors\n",
    "\n",
    "RDKit and Scipy disagree here since Scipy's jaccard is not identical to tanimoto for count vectors"
   ]
  },
  {
   "cell_type": "markdown",
   "id": "ffebaccd-c961-431a-a125-9a1b1a46dc1b",
   "metadata": {},
   "source": [
    "## RDKit"
   ]
  },
  {
   "cell_type": "code",
   "execution_count": 19,
   "id": "2607d02c-3de2-4863-b225-f88d2fac4c3e",
   "metadata": {},
   "outputs": [],
   "source": [
    "fp_gen = AllChem.GetRDKitFPGenerator(minPath=1, maxPath=2, fpSize=2048)\n",
    "def get_RDKit_fp(smi):\n",
    "\tmol = Chem.MolFromSmiles(smi)\n",
    "\treturn fp_gen.GetCountFingerprint(mol)"
   ]
  },
  {
   "cell_type": "code",
   "execution_count": 20,
   "id": "1841a624-8bed-4348-af32-feb150dda012",
   "metadata": {},
   "outputs": [
    {
     "name": "stderr",
     "output_type": "stream",
     "text": [
      "[Parallel(n_jobs=1)]: Done  17 tasks      | elapsed:    1.0s\n",
      "[Parallel(n_jobs=1)]: Done  71 tasks      | elapsed:    3.9s\n",
      "[Parallel(n_jobs=1)]: Done 161 tasks      | elapsed:    8.5s\n",
      "[Parallel(n_jobs=1)]: Done 287 tasks      | elapsed:   15.3s\n",
      "[Parallel(n_jobs=1)]: Done 449 tasks      | elapsed:   24.1s\n"
     ]
    },
    {
     "data": {
      "text/plain": [
       "(600, 517)"
      ]
     },
     "execution_count": 20,
     "metadata": {},
     "output_type": "execute_result"
    }
   ],
   "source": [
    "similarity_matrix_rdkit = get_similarity_matrix(smiles_list1, smiles_list2, ncpus=1)\n",
    "similarity_matrix_rdkit.shape"
   ]
  },
  {
   "cell_type": "code",
   "execution_count": 21,
   "id": "36faf052-7773-4fb5-a2fc-254ceea803af",
   "metadata": {},
   "outputs": [
    {
     "data": {
      "text/plain": [
       "array([[0.11504425, 0.01149425, 0.15789474, ..., 0.04433498, 0.09756098,\n",
       "        0.1797235 ],\n",
       "       [0.37288136, 0.075     , 0.44444444, ..., 0.01666667, 0.        ,\n",
       "        0.22058824],\n",
       "       [0.        , 0.14893617, 0.        , ..., 0.04651163, 0.38095238,\n",
       "        0.01515152],\n",
       "       ...,\n",
       "       [0.24      , 0.        , 0.35294118, ..., 0.        , 0.        ,\n",
       "        0.39130435],\n",
       "       [0.20689655, 0.        , 0.30120482, ..., 0.01010101, 0.        ,\n",
       "        0.21008403],\n",
       "       [0.2875    , 0.        , 0.359375  , ..., 0.        , 0.        ,\n",
       "        0.25      ]])"
      ]
     },
     "execution_count": 21,
     "metadata": {},
     "output_type": "execute_result"
    }
   ],
   "source": [
    "similarity_matrix_rdkit"
   ]
  },
  {
   "cell_type": "markdown",
   "id": "7b5fe5f9-09fd-4a80-a712-560d409abcb3",
   "metadata": {},
   "source": [
    "## Scipy"
   ]
  },
  {
   "cell_type": "code",
   "execution_count": 22,
   "id": "de991e41-15ed-43c1-afa0-580ff977c2e3",
   "metadata": {},
   "outputs": [],
   "source": [
    "fp_gen = AllChem.GetRDKitFPGenerator(minPath=1, maxPath=2, fpSize=2048)\n",
    "def get_RDKit_fp(smi):\n",
    "\tmol = Chem.MolFromSmiles(smi)\n",
    "\treturn fp_gen.GetCountFingerprintAsNumPy(mol)"
   ]
  },
  {
   "cell_type": "code",
   "execution_count": 23,
   "id": "0804f9e1-897e-4cbd-bba5-c31c9ecda10d",
   "metadata": {},
   "outputs": [],
   "source": [
    "fps1 = [get_RDKit_fp(smi) for smi in smiles_list1]\n",
    "fps2 = [get_RDKit_fp(smi) for smi in smiles_list2]"
   ]
  },
  {
   "cell_type": "code",
   "execution_count": 24,
   "id": "2b9c1358-eca3-45a2-acc5-d3c48f408ffa",
   "metadata": {},
   "outputs": [
    {
     "data": {
      "text/plain": [
       "(600, 517)"
      ]
     },
     "execution_count": 24,
     "metadata": {},
     "output_type": "execute_result"
    }
   ],
   "source": [
    "similarity_matrix_scipy = 1 - distance.cdist(fps1, fps2, metric='jaccard')\n",
    "similarity_matrix_scipy.shape"
   ]
  },
  {
   "cell_type": "code",
   "execution_count": 25,
   "id": "461d3248-49f6-40f6-bcb2-ecd21977572e",
   "metadata": {},
   "outputs": [
    {
     "data": {
      "text/plain": [
       "array([[0.        , 0.        , 0.14285714, ..., 0.01960784, 0.        ,\n",
       "        0.19607843],\n",
       "       [0.        , 0.15789474, 0.        , ..., 0.        , 0.        ,\n",
       "        0.        ],\n",
       "       [0.        , 0.23529412, 0.        , ..., 0.        , 0.16666667,\n",
       "        0.        ],\n",
       "       ...,\n",
       "       [0.        , 0.        , 0.        , ..., 0.        , 0.        ,\n",
       "        0.11428571],\n",
       "       [0.        , 0.        , 0.        , ..., 0.        , 0.        ,\n",
       "        0.07407407],\n",
       "       [0.        , 0.        , 0.        , ..., 0.        , 0.        ,\n",
       "        0.        ]])"
      ]
     },
     "execution_count": 25,
     "metadata": {},
     "output_type": "execute_result"
    }
   ],
   "source": [
    "similarity_matrix_scipy"
   ]
  },
  {
   "cell_type": "markdown",
   "id": "d4f53b21-c06f-49c6-8720-79e32fe0c394",
   "metadata": {},
   "source": [
    "These results are not even close. Double check scipy's formula!"
   ]
  },
  {
   "cell_type": "code",
   "execution_count": 26,
   "id": "3f2e6dfc-b739-4ee6-a200-8eb74de01a68",
   "metadata": {},
   "outputs": [
    {
     "data": {
      "text/plain": [
       "False"
      ]
     },
     "execution_count": 26,
     "metadata": {},
     "output_type": "execute_result"
    }
   ],
   "source": [
    "np.isclose(similarity_matrix_rdkit, similarity_matrix_scipy, rtol=1e-8, atol=1e-10).all()"
   ]
  },
  {
   "cell_type": "markdown",
   "id": "8f539143-0450-4283-93ef-667c541e1a8c",
   "metadata": {},
   "source": [
    "# Calculate Dice Similarity with Bit Vectors\n",
    "RDKit and Scipy agree here!"
   ]
  },
  {
   "cell_type": "markdown",
   "id": "dd43abb3-504c-4b5f-8f81-2894856a1b59",
   "metadata": {},
   "source": [
    "## RDKit"
   ]
  },
  {
   "cell_type": "code",
   "execution_count": 27,
   "id": "67a9b6a3-aac9-4d3a-9084-02c37dcbe0a6",
   "metadata": {},
   "outputs": [],
   "source": [
    "fp_gen = AllChem.GetRDKitFPGenerator(minPath=1, maxPath=2, fpSize=2048)\n",
    "def get_RDKit_fp(smi):\n",
    "\tmol = Chem.MolFromSmiles(smi)\n",
    "\treturn fp_gen.GetFingerprint(mol)"
   ]
  },
  {
   "cell_type": "code",
   "execution_count": 28,
   "id": "0950573a-e9d0-4284-b9b5-e055198f1ee5",
   "metadata": {},
   "outputs": [],
   "source": [
    "def get_sim(smi1, smiles_list):\n",
    "\tsim_results = np.zeros(len(smiles_list))\n",
    "\tfor i, smi2 in enumerate(smiles_list):\n",
    "\t\tfp1 = get_RDKit_fp(smi1)\n",
    "\t\tfp2 = get_RDKit_fp(smi2)\n",
    "\n",
    "\t\tsim = DataStructs.DiceSimilarity(fp1, fp2)\n",
    "\t\tsim_results[i] = sim\n",
    "\n",
    "\treturn sim_results"
   ]
  },
  {
   "cell_type": "code",
   "execution_count": 29,
   "id": "139eead1-903d-4737-a7af-c758c0a38d97",
   "metadata": {},
   "outputs": [
    {
     "name": "stderr",
     "output_type": "stream",
     "text": [
      "[Parallel(n_jobs=1)]: Done  17 tasks      | elapsed:    1.0s\n",
      "[Parallel(n_jobs=1)]: Done  71 tasks      | elapsed:    3.9s\n",
      "[Parallel(n_jobs=1)]: Done 161 tasks      | elapsed:    8.5s\n",
      "[Parallel(n_jobs=1)]: Done 287 tasks      | elapsed:   15.4s\n",
      "[Parallel(n_jobs=1)]: Done 449 tasks      | elapsed:   24.2s\n"
     ]
    },
    {
     "data": {
      "text/plain": [
       "(600, 517)"
      ]
     },
     "execution_count": 29,
     "metadata": {},
     "output_type": "execute_result"
    }
   ],
   "source": [
    "similarity_matrix_rdkit = get_similarity_matrix(smiles_list1, smiles_list2, ncpus=1)\n",
    "similarity_matrix_rdkit.shape"
   ]
  },
  {
   "cell_type": "code",
   "execution_count": 30,
   "id": "535b6896-d4a9-458d-a717-75239795cdc5",
   "metadata": {},
   "outputs": [
    {
     "data": {
      "text/plain": [
       "array([[0.23076923, 0.1       , 0.44444444, ..., 0.17857143, 0.25      ,\n",
       "        0.38095238],\n",
       "       [0.35714286, 0.27272727, 0.4       , ..., 0.03333333, 0.        ,\n",
       "        0.23880597],\n",
       "       [0.        , 0.58333333, 0.        , ..., 0.1       , 0.5       ,\n",
       "        0.08510638],\n",
       "       ...,\n",
       "       [0.25      , 0.        , 0.5       , ..., 0.        , 0.        ,\n",
       "        0.37209302],\n",
       "       [0.16666667, 0.        , 0.3125    , ..., 0.03846154, 0.        ,\n",
       "        0.16949153],\n",
       "       [0.22222222, 0.        , 0.4       , ..., 0.        , 0.        ,\n",
       "        0.34042553]])"
      ]
     },
     "execution_count": 30,
     "metadata": {},
     "output_type": "execute_result"
    }
   ],
   "source": [
    "similarity_matrix_rdkit"
   ]
  },
  {
   "cell_type": "markdown",
   "id": "d8e9d3cc-af56-4e7e-8c76-d6de3eb7c242",
   "metadata": {},
   "source": [
    "## Scipy"
   ]
  },
  {
   "cell_type": "code",
   "execution_count": 31,
   "id": "b1dd1792-9060-4a41-a0bb-627f5bf1880a",
   "metadata": {},
   "outputs": [],
   "source": [
    "fps1 = [get_RDKit_fp(smi) for smi in smiles_list1]\n",
    "fps2 = [get_RDKit_fp(smi) for smi in smiles_list2]"
   ]
  },
  {
   "cell_type": "code",
   "execution_count": 35,
   "id": "15c720be-fc54-48f7-8b5e-0b3a13d4e222",
   "metadata": {},
   "outputs": [
    {
     "data": {
      "text/plain": [
       "(600, 517)"
      ]
     },
     "execution_count": 35,
     "metadata": {},
     "output_type": "execute_result"
    }
   ],
   "source": [
    "similarity_matrix_scipy = 1 - distance.cdist(fps1, fps2, metric='dice')\n",
    "similarity_matrix_scipy.shape"
   ]
  },
  {
   "cell_type": "code",
   "execution_count": 36,
   "id": "3dc3a573-0a74-482c-8071-50cbc9b4a695",
   "metadata": {},
   "outputs": [
    {
     "data": {
      "text/plain": [
       "array([[0.23076923, 0.1       , 0.44444444, ..., 0.17857143, 0.25      ,\n",
       "        0.38095238],\n",
       "       [0.35714286, 0.27272727, 0.4       , ..., 0.03333333, 0.        ,\n",
       "        0.23880597],\n",
       "       [0.        , 0.58333333, 0.        , ..., 0.1       , 0.5       ,\n",
       "        0.08510638],\n",
       "       ...,\n",
       "       [0.25      , 0.        , 0.5       , ..., 0.        , 0.        ,\n",
       "        0.37209302],\n",
       "       [0.16666667, 0.        , 0.3125    , ..., 0.03846154, 0.        ,\n",
       "        0.16949153],\n",
       "       [0.22222222, 0.        , 0.4       , ..., 0.        , 0.        ,\n",
       "        0.34042553]])"
      ]
     },
     "execution_count": 36,
     "metadata": {},
     "output_type": "execute_result"
    }
   ],
   "source": [
    "similarity_matrix_scipy"
   ]
  },
  {
   "cell_type": "code",
   "execution_count": 37,
   "id": "f0a499cd-1470-4cfc-9d94-db6bb51ec86a",
   "metadata": {},
   "outputs": [
    {
     "data": {
      "text/plain": [
       "True"
      ]
     },
     "execution_count": 37,
     "metadata": {},
     "output_type": "execute_result"
    }
   ],
   "source": [
    "np.isclose(similarity_matrix_rdkit, similarity_matrix_scipy, rtol=1e-8, atol=1e-10).all()"
   ]
  },
  {
   "cell_type": "markdown",
   "id": "f33f8f70-9e8c-48d4-84c6-8111d248a3e1",
   "metadata": {},
   "source": [
    "# Calculate Dice Similarity with Count Vectors\n",
    "RDKit and Scipy disagree! "
   ]
  },
  {
   "cell_type": "code",
   "execution_count": 38,
   "id": "e6e6d5e4-2774-4b14-a2c6-ff4936f58a8d",
   "metadata": {},
   "outputs": [],
   "source": [
    "fp_gen = AllChem.GetRDKitFPGenerator(minPath=1, maxPath=2, fpSize=2048)\n",
    "def get_RDKit_fp(smi):\n",
    "\tmol = Chem.MolFromSmiles(smi)\n",
    "\treturn fp_gen.GetCountFingerprint(mol)"
   ]
  },
  {
   "cell_type": "code",
   "execution_count": 39,
   "id": "b210fedc-120d-4613-a547-e7c416539f09",
   "metadata": {},
   "outputs": [
    {
     "name": "stderr",
     "output_type": "stream",
     "text": [
      "[Parallel(n_jobs=1)]: Done  17 tasks      | elapsed:    1.0s\n",
      "[Parallel(n_jobs=1)]: Done  71 tasks      | elapsed:    3.9s\n",
      "[Parallel(n_jobs=1)]: Done 161 tasks      | elapsed:    8.5s\n",
      "[Parallel(n_jobs=1)]: Done 287 tasks      | elapsed:   15.3s\n",
      "[Parallel(n_jobs=1)]: Done 449 tasks      | elapsed:   24.2s\n"
     ]
    },
    {
     "data": {
      "text/plain": [
       "(600, 517)"
      ]
     },
     "execution_count": 39,
     "metadata": {},
     "output_type": "execute_result"
    }
   ],
   "source": [
    "similarity_matrix_rdkit = get_similarity_matrix(smiles_list1, smiles_list2, ncpus=1)\n",
    "similarity_matrix_rdkit.shape"
   ]
  },
  {
   "cell_type": "code",
   "execution_count": 40,
   "id": "977bd183-177c-4aad-81c9-b3b29ef2fcea",
   "metadata": {},
   "outputs": [
    {
     "data": {
      "text/plain": [
       "array([[0.20634921, 0.02272727, 0.27272727, ..., 0.08490566, 0.17777778,\n",
       "        0.3046875 ],\n",
       "       [0.54320988, 0.13953488, 0.61538462, ..., 0.03278689, 0.        ,\n",
       "        0.36144578],\n",
       "       [0.        , 0.25925926, 0.        , ..., 0.08888889, 0.55172414,\n",
       "        0.02985075],\n",
       "       ...,\n",
       "       [0.38709677, 0.        , 0.52173913, ..., 0.        , 0.        ,\n",
       "        0.5625    ],\n",
       "       [0.34285714, 0.        , 0.46296296, ..., 0.02      , 0.        ,\n",
       "        0.34722222],\n",
       "       [0.44660194, 0.        , 0.52873563, ..., 0.        , 0.        ,\n",
       "        0.4       ]])"
      ]
     },
     "execution_count": 40,
     "metadata": {},
     "output_type": "execute_result"
    }
   ],
   "source": [
    "similarity_matrix_rdkit"
   ]
  },
  {
   "cell_type": "markdown",
   "id": "3bdee894-b535-4f5c-a68e-d2b093a5623a",
   "metadata": {},
   "source": [
    "## Scipy"
   ]
  },
  {
   "cell_type": "code",
   "execution_count": 41,
   "id": "ae3bc50a-d638-4c3c-ae20-6a805644311f",
   "metadata": {},
   "outputs": [],
   "source": [
    "fp_gen = AllChem.GetRDKitFPGenerator(minPath=1, maxPath=2, fpSize=2048)\n",
    "def get_RDKit_fp(smi):\n",
    "\tmol = Chem.MolFromSmiles(smi)\n",
    "\treturn fp_gen.GetCountFingerprintAsNumPy(mol)"
   ]
  },
  {
   "cell_type": "code",
   "execution_count": 42,
   "id": "bd2759b4-c67d-4217-9fe9-c1abbc59724f",
   "metadata": {},
   "outputs": [],
   "source": [
    "fps1 = [get_RDKit_fp(smi) for smi in smiles_list1]\n",
    "fps2 = [get_RDKit_fp(smi) for smi in smiles_list2]"
   ]
  },
  {
   "cell_type": "code",
   "execution_count": 43,
   "id": "c16ac1ae-243f-4934-a71a-46b45ea91ef7",
   "metadata": {},
   "outputs": [
    {
     "data": {
      "text/plain": [
       "(600, 517)"
      ]
     },
     "execution_count": 43,
     "metadata": {},
     "output_type": "execute_result"
    }
   ],
   "source": [
    "similarity_matrix_scipy = 1 - distance.cdist(fps1, fps2, metric='dice')\n",
    "similarity_matrix_scipy.shape"
   ]
  },
  {
   "cell_type": "code",
   "execution_count": 44,
   "id": "c2df2101-9f36-4af1-a864-12578b6311bc",
   "metadata": {},
   "outputs": [
    {
     "data": {
      "text/plain": [
       "array([[2.52380952, 0.25      , 2.81818182, ..., 0.99056604, 1.68888889,\n",
       "        2.0390625 ],\n",
       "       [5.55555556, 0.13953488, 6.73846154, ..., 0.09836066, 0.        ,\n",
       "        2.65060241],\n",
       "       [0.        , 0.88888889, 0.        , ..., 0.62222222, 3.03448276,\n",
       "        0.05970149],\n",
       "       ...,\n",
       "       [4.64516129, 0.        , 6.52173913, ..., 0.        , 0.        ,\n",
       "        3.1875    ],\n",
       "       [4.11428571, 0.        , 5.59259259, ..., 0.04      , 0.        ,\n",
       "        2.02777778],\n",
       "       [5.59223301, 0.        , 6.89655172, ..., 0.        , 0.        ,\n",
       "        5.6       ]])"
      ]
     },
     "execution_count": 44,
     "metadata": {},
     "output_type": "execute_result"
    }
   ],
   "source": [
    "similarity_matrix_scipy"
   ]
  },
  {
   "cell_type": "code",
   "execution_count": 46,
   "id": "92f8c6ad-9fbd-457e-a32a-cfad73bfb4b8",
   "metadata": {},
   "outputs": [
    {
     "data": {
      "text/plain": [
       "36.67605633802817"
      ]
     },
     "execution_count": 46,
     "metadata": {},
     "output_type": "execute_result"
    }
   ],
   "source": [
    "similarity_matrix_scipy.max()"
   ]
  },
  {
   "cell_type": "code",
   "execution_count": 47,
   "id": "e743dbdb-4679-4959-bfb4-71dd316c4a5e",
   "metadata": {},
   "outputs": [
    {
     "data": {
      "text/plain": [
       "False"
      ]
     },
     "execution_count": 47,
     "metadata": {},
     "output_type": "execute_result"
    }
   ],
   "source": [
    "np.isclose(similarity_matrix_rdkit, similarity_matrix_scipy, rtol=1e-8, atol=1e-10).all()"
   ]
  },
  {
   "cell_type": "code",
   "execution_count": null,
   "id": "80bc29c5-88cf-447b-b771-54ad1f116f51",
   "metadata": {},
   "outputs": [],
   "source": []
  }
 ],
 "metadata": {
  "kernelspec": {
   "display_name": "Python 3 (ipykernel)",
   "language": "python",
   "name": "python3"
  },
  "language_info": {
   "codemirror_mode": {
    "name": "ipython",
    "version": 3
   },
   "file_extension": ".py",
   "mimetype": "text/x-python",
   "name": "python",
   "nbconvert_exporter": "python",
   "pygments_lexer": "ipython3",
   "version": "3.11.7"
  }
 },
 "nbformat": 4,
 "nbformat_minor": 5
}
